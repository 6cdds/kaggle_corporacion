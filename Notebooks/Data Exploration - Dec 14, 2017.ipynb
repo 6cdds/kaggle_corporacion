{
 "cells": [
  {
   "cell_type": "markdown",
   "metadata": {},
   "source": [
    "# Data Exploration - Dec 14, 2017 "
   ]
  },
  {
   "cell_type": "code",
   "execution_count": 22,
   "metadata": {},
   "outputs": [
    {
     "data": {
      "text/html": [
       "<script>requirejs.config({paths: { 'plotly': ['https://cdn.plot.ly/plotly-latest.min']},});if(!window.Plotly) {{require(['plotly'],function(plotly) {window.Plotly=plotly;});}}</script>"
      ],
      "text/plain": [
       "<IPython.core.display.HTML object>"
      ]
     },
     "metadata": {},
     "output_type": "display_data"
    }
   ],
   "source": [
    "# Import modules\n",
    "\n",
    "import pandas as pd\n",
    "import numpy as np\n",
    "import os\n",
    "import sys\n",
    "import math\n",
    "import pickle\n",
    "import random\n",
    "import re\n",
    "import json\n",
    "\n",
    "import sqlite3\n",
    "\n",
    "from dateutil.parser import parse\n",
    "\n",
    "import plotly.graph_objs as go\n",
    "from plotly.graph_objs import *\n",
    "from plotly.offline import download_plotlyjs, init_notebook_mode, plot, iplot\n",
    "from plotly import tools\n",
    "import colorlover as cl\n",
    "from IPython.display import Image\n",
    "\n",
    "src_dir = os.path.join(os.getcwd(), os.pardir,'src')\n",
    "sys.path.append(src_dir)\n",
    "\n",
    "import load_data as ld\n",
    "\n",
    "init_notebook_mode(connected=True)\n",
    "\n",
    "%reload_ext autoreload\n",
    "%autoreload 2"
   ]
  },
  {
   "cell_type": "code",
   "execution_count": 9,
   "metadata": {
    "collapsed": true
   },
   "outputs": [],
   "source": [
    "data_dir = 'D:\\Kaggle Data\\Corporacion'\n",
    "db_loc = data_dir\n",
    "db_name = 'kaggle_corporacion_db'\n",
    "db_f_name = os.path.join(data_dir, ld.DB_NAME)"
   ]
  },
  {
   "cell_type": "markdown",
   "metadata": {},
   "source": [
    "## Data stats"
   ]
  },
  {
   "cell_type": "code",
   "execution_count": null,
   "metadata": {
    "collapsed": true
   },
   "outputs": [],
   "source": [
    "# Get number of rows in train.csv\n",
    "\n",
    "f = open(os.path.join(data_dir, 'train.csv', 'r'))\n",
    "row_count = sum(1 for row in f)\n",
    "f.close()"
   ]
  },
  {
   "cell_type": "markdown",
   "metadata": {},
   "source": [
    "There are 125497041 rows in train.csv"
   ]
  },
  {
   "cell_type": "code",
   "execution_count": 30,
   "metadata": {},
   "outputs": [
    {
     "name": "stdout",
     "output_type": "stream",
     "text": [
      "4036\n"
     ]
    }
   ],
   "source": [
    "# Get number of items\n",
    "\n",
    "connex = sqlite3.connect(os.path.join(db_loc, db_name + '.db'))\n",
    "df = pd.read_sql_query(\"SELECT DISTINCT item_nbr FROM train_data;\", connex)\n",
    "connex.close()\n",
    "print df.shape[0]"
   ]
  },
  {
   "cell_type": "markdown",
   "metadata": {},
   "source": [
    "There are 4036 items"
   ]
  },
  {
   "cell_type": "code",
   "execution_count": 12,
   "metadata": {},
   "outputs": [],
   "source": [
    "# Get total time\n",
    "\n",
    "connex = sqlite3.connect(os.path.join(db_loc, db_name + '.db'))\n",
    "\n",
    "df = pd.read_sql_query(\"SELECT date FROM train_data ORDER BY ROWID ASC LIMIT 1\", connex)\n",
    "d_start = df['date'].iloc[0]\n",
    "\n",
    "df = pd.read_sql_query(\"SELECT date FROM train_data ORDER BY ROWID DESC LIMIT 1\", connex)\n",
    "d_end = df['date'].iloc[0]\n",
    "\n",
    "connex.close()"
   ]
  },
  {
   "cell_type": "code",
   "execution_count": 28,
   "metadata": {},
   "outputs": [
    {
     "name": "stdout",
     "output_type": "stream",
     "text": [
      "1687 days, 0:00:00\n",
      "about 4.62191780822 years\n"
     ]
    }
   ],
   "source": [
    "dst = parse(d_start)\n",
    "dend = parse(d_end)\n",
    "\n",
    "print dend - dst\n",
    "print 'about ' + str(float(1687)/365.0) + ' years'"
   ]
  },
  {
   "cell_type": "code",
   "execution_count": 46,
   "metadata": {},
   "outputs": [
    {
     "name": "stdout",
     "output_type": "stream",
     "text": [
      "2013-01-01 00:00:00\n"
     ]
    },
    {
     "data": {
      "text/plain": [
       "145756800.0"
      ]
     },
     "execution_count": 46,
     "metadata": {},
     "output_type": "execute_result"
    }
   ],
   "source": [
    "import time\n",
    "import calendar\n",
    "import datetime\n",
    "\n",
    "print d_start\n",
    "calendar.timegm(time.strptime(d_start, '%Y-%m-%d %H:%M:%S'))\n",
    "\n",
    "\n",
    "(datetime.datetime.strptime(d_end, '%Y-%m-%d %H:%M:%S') - datetime.datetime(2013,1,1)).total_seconds()"
   ]
  },
  {
   "cell_type": "code",
   "execution_count": 42,
   "metadata": {},
   "outputs": [
    {
     "ename": "TypeError",
     "evalue": "an integer is required",
     "output_type": "error",
     "traceback": [
      "\u001b[1;31m---------------------------------------------------------------------------\u001b[0m",
      "\u001b[1;31mTypeError\u001b[0m                                 Traceback (most recent call last)",
      "\u001b[1;32m<ipython-input-42-b3418390021a>\u001b[0m in \u001b[0;36m<module>\u001b[1;34m()\u001b[0m\n\u001b[1;32m----> 1\u001b[1;33m \u001b[1;32mprint\u001b[0m \u001b[0mdatetime\u001b[0m\u001b[1;33m.\u001b[0m\u001b[0mdatetime\u001b[0m\u001b[1;33m(\u001b[0m\u001b[0md_start\u001b[0m\u001b[1;33m)\u001b[0m\u001b[1;33m\u001b[0m\u001b[0m\n\u001b[0m",
      "\u001b[1;31mTypeError\u001b[0m: an integer is required"
     ]
    }
   ],
   "source": [
    "print datetime.datetime(d_start)"
   ]
  },
  {
   "cell_type": "code",
   "execution_count": 32,
   "metadata": {},
   "outputs": [
    {
     "name": "stdout",
     "output_type": "stream",
     "text": [
      "There are 54 num stores\n"
     ]
    }
   ],
   "source": [
    "# Get total number of stores\n",
    "\n",
    "connex = sqlite3.connect(os.path.join(db_loc, db_name + '.db'))\n",
    "df = pd.read_sql_query(\"SELECT DISTINCT store_nbr FROM train_data;\", connex)\n",
    "connex.close()\n",
    "print 'There are ' + str(df.shape[0]) + ' num stores'"
   ]
  },
  {
   "cell_type": "code",
   "execution_count": null,
   "metadata": {
    "collapsed": true
   },
   "outputs": [],
   "source": []
  },
  {
   "cell_type": "markdown",
   "metadata": {},
   "source": [
    "## Plots"
   ]
  },
  {
   "cell_type": "markdown",
   "metadata": {},
   "source": [
    "### Store vs sales"
   ]
  },
  {
   "cell_type": "markdown",
   "metadata": {},
   "source": [
    "Things that affect sales of an item:\n",
    "\n",
    "-seasonality (is it in season)\n",
    "-is it on promotion\n",
    "-is it a holiday item x is it a holiday\n",
    "-sales of similar items\n",
    "-sales of items it is commonly bought with\n",
    "-day of the week (bought more during common shopping days)\n",
    "-oil prices (current price and current rate of change)\n",
    "-is is a luxury item vs a staple\n",
    "-is the store in a wealthy or poor area\n"
   ]
  },
  {
   "cell_type": "markdown",
   "metadata": {},
   "source": [
    "Possible features:\n",
    "    \n",
    "-day of the week (1-7)\n",
    "-is payday\n",
    "-oil price\n",
    "-short term oil trend\n",
    "-long term oil trend\n",
    "-price\n",
    "-is on promotion\n",
    "-is in season (alg to determine seasonality)\n",
    "-how close to payday\n",
    "-store cluster\n",
    "-store itself\n",
    "-"
   ]
  },
  {
   "cell_type": "markdown",
   "metadata": {},
   "source": [
    "Things to plot/analyse\n",
    "\n",
    "-location vs sales for a couple items\n",
    "-day of the week vs sales for a couple items\n",
    "-price of oil vs sales"
   ]
  }
 ],
 "metadata": {
  "kernelspec": {
   "display_name": "Python 2",
   "language": "python",
   "name": "python2"
  },
  "language_info": {
   "codemirror_mode": {
    "name": "ipython",
    "version": 2
   },
   "file_extension": ".py",
   "mimetype": "text/x-python",
   "name": "python",
   "nbconvert_exporter": "python",
   "pygments_lexer": "ipython2",
   "version": "2.7.14"
  }
 },
 "nbformat": 4,
 "nbformat_minor": 2
}
